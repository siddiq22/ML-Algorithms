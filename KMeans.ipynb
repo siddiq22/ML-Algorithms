{
 "cells": [
  {
   "cell_type": "code",
   "execution_count": 1,
   "metadata": {},
   "outputs": [],
   "source": [
    "import numpy as np\n",
    "import matplotlib.pyplot as plt\n",
    "import matplotlib.image\n",
    "import imageio  \n",
    "import random \n",
    "import time\n",
    "from datetime import timedelta\n",
    "from collections import defaultdict"
   ]
  },
  {
   "cell_type": "code",
   "execution_count": 2,
   "metadata": {},
   "outputs": [],
   "source": [
    "def cluster_asn(pixel, centroids):\n",
    "    \n",
    "    cluster_number = np.linalg.norm(centroids - pixel, axis=1)\n",
    "    return np.argmin(cluster_number)\n",
    "\n",
    "\n",
    "def centroids_adjust(pixel, assign_cluster, centroids):\n",
    " \n",
    "    x, y = pixel.shape[:2]\n",
    "    \n",
    "    centroids_new = defaultdict(list)\n",
    "\n",
    "    for i in range(x):\n",
    "        for j in range(y):\n",
    "            pixel[i, j]\n",
    "            cluster = assign_cluster[i, j]\n",
    "            centroids_new[cluster].append(pixel[i, j])\n",
    "\n",
    "    centroids_fin = []\n",
    "\n",
    "    for cluster in range(len(centroids)):\n",
    "        cluster_pixels = centroids_new[cluster]\n",
    "        \n",
    "        if cluster_pixels:\n",
    "            centroid_mean = np.mean(cluster_pixels, axis=0)\n",
    "            centroid_rounded = np.around(centroid_mean).astype(np.uint8)\n",
    "            centroids_fin.append(centroid_rounded.tolist())\n",
    "        else:\n",
    "            centroids_fin.append(centroids[cluster])\n",
    "    \n",
    "    return centroids_fin\n",
    "\n",
    "def kmeans(pixel, k):\n",
    "    \n",
    "    time_start = time.time()\n",
    "    \n",
    "    x, y, z = pixel.shape\n",
    "    \n",
    "    assign_cluster = np.empty(shape=(x, y), dtype='object')\n",
    "\n",
    "    np.random.seed(101)\n",
    "    \n",
    "    centroids = np.random.randint(0, 255, size=(k, 3)).tolist()\n",
    "\n",
    "    iter_count = 1\n",
    "\n",
    "\n",
    "    for i in range(x):\n",
    "        for j in range(y):\n",
    "            pixl = pixel[i, j]\n",
    "            assign_cluster[i, j] = cluster_asn(pixl, centroids)\n",
    "        \n",
    "\n",
    "    centroids_new = centroids_adjust(pixel, assign_cluster, centroids)\n",
    "    \n",
    "    while centroids != centroids_new:\n",
    "        iter_count += 1\n",
    "        \n",
    "        centroids = centroids_new\n",
    "\n",
    "        for i in range(x):\n",
    "            for j in range(y):\n",
    "                pixl = pixel[i, j]\n",
    "                assign_cluster[i, j] = cluster_asn(pixl, centroids)\n",
    " \n",
    "        centroids_new = centroids_adjust(pixel, assign_cluster, centroids)\n",
    "        \n",
    "\n",
    "    time_end = time.time()  \n",
    "    total_time = timedelta(seconds=time_end - time_start).seconds\n",
    "    \n",
    "   \n",
    "    image = np.empty(shape=(x, y, z), dtype='object')\n",
    "    for row in range(x):\n",
    "        for col in range(y):\n",
    "            pixl = assign_cluster[row, col]\n",
    "            image[row, col] = np.array(centroids_new[pixl])\n",
    "    \n",
    "\n",
    "    labels = assign_cluster + 1\n",
    "    image_final = np.reshape(image, (pixel.shape))\n",
    "    \n",
    "    \n",
    "    wcss = 0  \n",
    "\n",
    "    for row in range(x):\n",
    "        for col in range(y):\n",
    "            cluster = assign_cluster[row, col]\n",
    "            image_final[row, col] = np.array(centroids_new[cluster])\n",
    "            wcss += np.linalg.norm(pixel[row, col] - centroids_new[cluster])**2\n",
    "    \n",
    "    return labels, centroids_new, image_final, iter_count, total_time, wcss\n",
    "\n"
   ]
  },
  {
   "cell_type": "code",
   "execution_count": 3,
   "metadata": {},
   "outputs": [
    {
     "data": {
      "text/plain": [
       "\"\\n\\nk_values = [2,4]\\nimage_paths = ['coastal-abstract.jpeg', 'flowers.bmp']\\n\\nfor k in k_values:\\n    for img in image_paths:\\n        \\n        image = imageio.imread(img)\\n        \\n        label, cluster_centers, compressed_image, iterations, run_time, wcss = kmeans(image, k)\\n    \\n        img_name = img.split('/')[-1].split('.')[0]\\n        output_path = f'kmeans_output/{img_name}_{k}.png'\\n\\n        plt.imsave(output_path, compressed_image.astype(np.uint8))\\n        print(f'{img_name}, k = {k}, Iterations = {iterations}, Time = {run_time} seconds, wcss = {wcss}',)\\n\\n\\nwcss_dict = {img: [] for img in image_paths}\\n        \\nfor img in image_paths:\\n    img_name = img.split('/')[-1].split('.')[0]\\n    ks, wcss_values = zip(*wcss_dict[img])\\n    \\n    plt.figure()\\n    plt.plot(ks, wcss_values, marker='o')\\n    plt.title(f'WCSS vs. k for {img_name}')\\n    plt.xlabel('Number of clusters (k)')\\n    plt.ylabel('Within-Cluster Sum of Squares (WCSS)')\\n    plt.grid(True)\\n    \\n    plt.savefig(f'kmeans_output/{img_name}_wcss_plot.png')\\n    plt.show()\\n    \\n    \\n\""
      ]
     },
     "execution_count": 3,
     "metadata": {},
     "output_type": "execute_result"
    }
   ],
   "source": [
    "\n",
    "'''\n",
    "\n",
    "k_values = [2,4]\n",
    "image_paths = ['coastal-abstract.jpeg', 'flowers.bmp']\n",
    "\n",
    "for k in k_values:\n",
    "    for img in image_paths:\n",
    "        \n",
    "        image = imageio.imread(img)\n",
    "        \n",
    "        label, cluster_centers, compressed_image, iterations, run_time, wcss = kmeans(image, k)\n",
    "    \n",
    "        img_name = img.split('/')[-1].split('.')[0]\n",
    "        output_path = f'kmeans_output/{img_name}_{k}.png'\n",
    "\n",
    "        plt.imsave(output_path, compressed_image.astype(np.uint8))\n",
    "        print(f'{img_name}, k = {k}, Iterations = {iterations}, Time = {run_time} seconds, wcss = {wcss}',)\n",
    "\n",
    "\n",
    "wcss_dict = {img: [] for img in image_paths}\n",
    "        \n",
    "for img in image_paths:\n",
    "    img_name = img.split('/')[-1].split('.')[0]\n",
    "    ks, wcss_values = zip(*wcss_dict[img])\n",
    "    \n",
    "    plt.figure()\n",
    "    plt.plot(ks, wcss_values, marker='o')\n",
    "    plt.title(f'WCSS vs. k for {img_name}')\n",
    "    plt.xlabel('Number of clusters (k)')\n",
    "    plt.ylabel('Within-Cluster Sum of Squares (WCSS)')\n",
    "    plt.grid(True)\n",
    "    \n",
    "    plt.savefig(f'kmeans_output/{img_name}_wcss_plot.png')\n",
    "    plt.show()\n",
    "    \n",
    "    \n",
    "'''"
   ]
  },
  {
   "cell_type": "code",
   "execution_count": 4,
   "metadata": {},
   "outputs": [
    {
     "name": "stdout",
     "output_type": "stream",
     "text": [
      "coastal-abstract, k = 2, Iterations = 9, Time = 31 seconds\n"
     ]
    },
    {
     "data": {
      "image/png": "[encoded data removed]",
      "text/plain": [
       "<Figure size 432x288 with 1 Axes>"
      ]
     },
     "metadata": {
      "needs_background": "light"
     },
     "output_type": "display_data"
    }
   ],
   "source": [
    "import imageio\n",
    "import numpy as np\n",
    "import matplotlib.pyplot as plt\n",
    "import os\n",
    "\n",
    "k_values = [2]\n",
    "image_paths = ['coastal-abstract.jpeg']\n",
    "\n",
    "\n",
    "wcss_dict = {img: [] for img in image_paths}\n",
    "\n",
    "output_dir = 'kmeans_output'\n",
    "if not os.path.exists(output_dir):\n",
    "    os.makedirs(output_dir)\n",
    "\n",
    "for k in k_values:\n",
    "    for img in image_paths:\n",
    "        image = imageio.imread(img)\n",
    "        \n",
    "        \n",
    "        label, cluster_centers, compressed_image, iterations, run_time, wcss = kmeans(image, k)\n",
    "        \n",
    "        wcss_dict[img].append((k, wcss))\n",
    "    \n",
    "        img_name = img.split('/')[-1].split('.')[0]\n",
    "        output_path = f'kmeans_output/{img_name}_{k}.png'\n",
    "        \n",
    "        plt.imsave(output_path, compressed_image.astype(np.uint8))\n",
    "        print(f'{img_name}, k = {k}, Iterations = {iterations}, Time = {run_time} seconds')\n",
    "        \n",
    "\n",
    "for img in image_paths:\n",
    "    img_name = img.split('/')[-1].split('.')[0]\n",
    "    k_values, wcss_values = zip(*wcss_dict[img])\n",
    "    \n",
    "    plt.figure()\n",
    "    plt.plot(k_values, wcss_values)\n",
    "    plt.title(f'Within clusters sum of sqaures against k for {img_name}')\n",
    "    plt.xlabel('Number of clusters(k)')\n",
    "    plt.ylabel('Within-Cluster Sum of Squares')\n",
    "    plt.grid(True)\n",
    "    \n",
    "    plt.savefig(f'kmeans_output/{img_name}_wcss_plot.png')\n",
    "    plt.show()\n"
   ]
  },
  {
   "cell_type": "code",
   "execution_count": 5,
   "metadata": {},
   "outputs": [
    {
     "ename": "SyntaxError",
     "evalue": "invalid syntax (<ipython-input-5-4152ac689eb2>, line 1)",
     "output_type": "error",
     "traceback": [
      "\u001b[1;36m  File \u001b[1;32m\"<ipython-input-5-4152ac689eb2>\"\u001b[1;36m, line \u001b[1;32m1\u001b[0m\n\u001b[1;33m    One of the methods used to calculate optimal value of k is the elbow method.\u001b[0m\n\u001b[1;37m        ^\u001b[0m\n\u001b[1;31mSyntaxError\u001b[0m\u001b[1;31m:\u001b[0m invalid syntax\n"
     ]
    }
   ],
   "source": [
    "One of the methods used to calculate optimal value of k is the elbow method.\n",
    "In the elbow method we first run the k means algorithm for a range of values for k and then we calculate the within cluster sum of squares for each of the value.\n",
    "After calculating the wcss, we plot the values of wcss against the values of k and examine the graph, as the values of k increase, the values of Wcss keep on decreasing. But there is a point at which the change in value is not really significant and it forms the shape of an elbow. The point of elbow is selected as the optimal value for k.\n",
    "\n",
    "In the pictures we used in this code, the value of wcss stops decreasing significantly after k value of 16, which makes 16 the optimal value of k."
   ]
  },
  {
   "cell_type": "code",
   "execution_count": null,
   "metadata": {},
   "outputs": [],
   "source": []
  }
 ],
 "metadata": {
  "kernelspec": {
   "display_name": "Python 3",
   "language": "python",
   "name": "python3"
  },
  "language_info": {
   "codemirror_mode": {
    "name": "ipython",
    "version": 3
   },
   "file_extension": ".py",
   "mimetype": "text/x-python",
   "name": "python",
   "nbconvert_exporter": "python",
   "pygments_lexer": "ipython3",
   "version": "3.8.3"
  }
 },
 "nbformat": 4,
 "nbformat_minor": 4
}
